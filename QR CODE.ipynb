{
 "cells": [
  {
   "cell_type": "code",
   "execution_count": 2,
   "id": "dad0433b",
   "metadata": {},
   "outputs": [],
   "source": [
    "import qrcode as qr"
   ]
  },
  {
   "cell_type": "code",
   "execution_count": 3,
   "id": "c4535e11",
   "metadata": {},
   "outputs": [],
   "source": [
    "img = qr.make(\"https://www.linkedin.com/in/anjali-kesherwani-637089259\")"
   ]
  },
  {
   "cell_type": "code",
   "execution_count": 4,
   "id": "fd859b59",
   "metadata": {},
   "outputs": [],
   "source": [
    "img.save(\"linkedIn.png\")"
   ]
  },
  {
   "cell_type": "code",
   "execution_count": null,
   "id": "44aab48a",
   "metadata": {},
   "outputs": [],
   "source": []
  }
 ],
 "metadata": {
  "kernelspec": {
   "display_name": "Python 3 (ipykernel)",
   "language": "python",
   "name": "python3"
  },
  "language_info": {
   "codemirror_mode": {
    "name": "ipython",
    "version": 3
   },
   "file_extension": ".py",
   "mimetype": "text/x-python",
   "name": "python",
   "nbconvert_exporter": "python",
   "pygments_lexer": "ipython3",
   "version": "3.10.11"
  }
 },
 "nbformat": 4,
 "nbformat_minor": 5
}
