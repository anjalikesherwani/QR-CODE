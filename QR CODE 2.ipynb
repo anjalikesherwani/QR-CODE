{
 "cells": [
  {
   "cell_type": "code",
   "execution_count": 1,
   "id": "81a85cd8",
   "metadata": {},
   "outputs": [],
   "source": [
    "import qrcode as qr\n",
    "from PIL import Image"
   ]
  },
  {
   "cell_type": "code",
   "execution_count": 2,
   "id": "0f51de69",
   "metadata": {},
   "outputs": [],
   "source": [
    "qrc = qr.QRCode(version =1,\n",
    "               error_correction = qr.constants.ERROR_CORRECT_H,\n",
    "               box_size=10,border=4,)"
   ]
  },
  {
   "cell_type": "code",
   "execution_count": 3,
   "id": "64d55730",
   "metadata": {},
   "outputs": [],
   "source": [
    "qrc.add_data(\"https://instagram.com/kesherwanianjali?utm_source=qr&igshid=MzNlNGNkZWQ4Mg%3D%3D\")\n",
    "qrc.make(fit = True)\n"
   ]
  },
  {
   "cell_type": "code",
   "execution_count": 8,
   "id": "02d0326e",
   "metadata": {},
   "outputs": [],
   "source": [
    "img = qrc.make_image(fill_color=\"red\",back_color=\"white\")"
   ]
  },
  {
   "cell_type": "code",
   "execution_count": 9,
   "id": "2d6e4a3c",
   "metadata": {},
   "outputs": [],
   "source": [
    "img.save(\"instagram.png\")"
   ]
  },
  {
   "cell_type": "code",
   "execution_count": null,
   "id": "ce046079",
   "metadata": {},
   "outputs": [],
   "source": []
  }
 ],
 "metadata": {
  "kernelspec": {
   "display_name": "Python 3 (ipykernel)",
   "language": "python",
   "name": "python3"
  },
  "language_info": {
   "codemirror_mode": {
    "name": "ipython",
    "version": 3
   },
   "file_extension": ".py",
   "mimetype": "text/x-python",
   "name": "python",
   "nbconvert_exporter": "python",
   "pygments_lexer": "ipython3",
   "version": "3.10.11"
  }
 },
 "nbformat": 4,
 "nbformat_minor": 5
}
